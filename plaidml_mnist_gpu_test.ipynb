{
 "cells": [
  {
   "cell_type": "raw",
   "id": "edb1f89c",
   "metadata": {},
   "source": [
    "conda create --name PlaidML python==3.8 --yes\n",
    "conda activate PlaidML \n",
    "conda install -c conda-forge ipykernel --yes\n",
    "python -m ipykernel install --user --name PlaidML\n",
    "\n",
    "....set up libraries"
   ]
  },
  {
   "cell_type": "markdown",
   "id": "ded2f8fe",
   "metadata": {},
   "source": [
    "PlaidML Install: https://towardsdatascience.com/plaidml-deep-learning-on-a-budget-ce22b58ba8c2\n",
    "PlaidML Install: https://kennylimyx.medium.com/quick-plaidml-macos-installation-guide-e1d4b9805e53\n",
    "Code Source: https://github.com/kennylimyx/plaidml/blob/main/plaidml_mnist_gpu_test.ipynb"
   ]
  },
  {
   "cell_type": "code",
   "execution_count": 1,
   "id": "f789b4b9",
   "metadata": {},
   "outputs": [],
   "source": [
    "import os \n",
    "\n",
    "os.environ['KERAS_BACKEND'] = \"plaidml.keras.backend\""
   ]
  },
  {
   "cell_type": "code",
   "execution_count": 2,
   "id": "99a9e73b",
   "metadata": {},
   "outputs": [
    {
     "name": "stderr",
     "output_type": "stream",
     "text": [
      "Using plaidml.keras.backend backend.\n"
     ]
    }
   ],
   "source": [
    "import keras\n",
    "from keras.models import Sequential\n",
    "from keras.layers import Dense, Dropout, Flatten\n",
    "from keras.layers import Conv2D, MaxPooling2D\n",
    "from keras import backend as K\n",
    "\n",
    "# Download fashion dataset from Keras\n",
    "fashion_mnist = keras.datasets.fashion_mnist\n",
    "(x_train, y_train), (x_test, y_test) = keras.datasets.fashion_mnist.load_data()\n",
    "\n",
    "# Reshape and normalize the data\n",
    "x_train = x_train.astype('float32').reshape(60000,28,28,1) / 255\n",
    "x_test = x_test.astype('float32').reshape(10000,28,28,1) / 255"
   ]
  },
  {
   "cell_type": "code",
   "execution_count": 3,
   "id": "7a0d3f77",
   "metadata": {},
   "outputs": [
    {
     "name": "stderr",
     "output_type": "stream",
     "text": [
      "INFO:plaidml:Opening device \"metal_amd_radeon_rx_6800.0\"\n"
     ]
    }
   ],
   "source": [
    "# Build a CNN model\n",
    "# run this each time before you fit the model\n",
    "\n",
    "# if using plaidml, you should see \"INFO:plaidml:Opening device xxx\" after you run this chunk\n",
    "\n",
    "\n",
    "model = keras.Sequential()\n",
    "model.add(keras.layers.Conv2D(filters=64, kernel_size=2, padding='same', activation='relu', input_shape=(28,28,1))) \n",
    "model.add(keras.layers.MaxPooling2D(pool_size=2))\n",
    "model.add(keras.layers.Dropout(0.3))\n",
    "model.add(keras.layers.Conv2D(filters=32, kernel_size=2, padding='same', activation='relu'))\n",
    "model.add(keras.layers.MaxPooling2D(pool_size=2))\n",
    "model.add(keras.layers.Dropout(0.3))\n",
    "model.add(keras.layers.Flatten())\n",
    "model.add(keras.layers.Dense(256, activation='relu'))\n",
    "model.add(keras.layers.Dropout(0.5))\n",
    "model.add(keras.layers.Dense(10, activation='softmax'))\n",
    "\n",
    "# Compile the model\n",
    "model.compile(optimizer='adam',\n",
    "              loss=keras.losses.sparse_categorical_crossentropy,\n",
    "              metrics=['accuracy'])"
   ]
  },
  {
   "cell_type": "code",
   "execution_count": 4,
   "id": "96ec0645",
   "metadata": {},
   "outputs": [
    {
     "name": "stdout",
     "output_type": "stream",
     "text": [
      "Epoch 1/10\n",
      "60000/60000 [==============================] - 8s 135us/step - loss: 0.5984 - acc: 0.7807\n",
      "Epoch 2/10\n",
      "60000/60000 [==============================] - 7s 124us/step - loss: 0.4115 - acc: 0.8518\n",
      "Epoch 3/10\n",
      "60000/60000 [==============================] - 8s 125us/step - loss: 0.3638 - acc: 0.8690\n",
      "Epoch 4/10\n",
      "60000/60000 [==============================] - 7s 125us/step - loss: 0.3366 - acc: 0.8779\n",
      "Epoch 5/10\n",
      "60000/60000 [==============================] - 7s 125us/step - loss: 0.3172 - acc: 0.8853\n",
      "Epoch 6/10\n",
      "60000/60000 [==============================] - 7s 125us/step - loss: 0.3036 - acc: 0.8884\n",
      "Epoch 7/10\n",
      "60000/60000 [==============================] - 8s 125us/step - loss: 0.2870 - acc: 0.8950\n",
      "Epoch 8/10\n",
      "60000/60000 [==============================] - 7s 124us/step - loss: 0.2808 - acc: 0.8966\n",
      "Epoch 9/10\n",
      "60000/60000 [==============================] - 7s 124us/step - loss: 0.2707 - acc: 0.8997\n",
      "Epoch 10/10\n",
      "60000/60000 [==============================] - 7s 124us/step - loss: 0.2622 - acc: 0.9042\n",
      "\n",
      " Test accuracy: 0.9124\n",
      "CPU times: user 39.9 s, sys: 44.1 s, total: 1min 23s\n",
      "Wall time: 1min 16s\n"
     ]
    }
   ],
   "source": [
    "%%time\n",
    "# Fit the model on training set\n",
    "model.fit(x_train, y_train,\n",
    "          batch_size=64,\n",
    "          epochs=10)\n",
    "\n",
    "# Evaluate the model on test set\n",
    "score = model.evaluate(x_test, y_test, verbose=0)\n",
    "# Print test accuracy\n",
    "print('\\n', 'Test accuracy:', score[1])"
   ]
  }
 ],
 "metadata": {
  "kernelspec": {
   "display_name": "PlaidML",
   "language": "python",
   "name": "plaidml"
  },
  "language_info": {
   "codemirror_mode": {
    "name": "ipython",
    "version": 3
   },
   "file_extension": ".py",
   "mimetype": "text/x-python",
   "name": "python",
   "nbconvert_exporter": "python",
   "pygments_lexer": "ipython3",
   "version": "3.8.17"
  }
 },
 "nbformat": 4,
 "nbformat_minor": 5
}
